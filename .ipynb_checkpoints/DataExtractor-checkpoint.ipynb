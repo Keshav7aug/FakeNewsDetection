{
 "cells": [
  {
   "cell_type": "code",
   "execution_count": 79,
   "id": "dated-trunk",
   "metadata": {},
   "outputs": [],
   "source": [
    "from newspaper import Article\n",
    "import nltk"
   ]
  },
  {
   "cell_type": "code",
   "execution_count": 80,
   "id": "robust-trinity",
   "metadata": {},
   "outputs": [
    {
     "name": "stderr",
     "output_type": "stream",
     "text": [
      "[nltk_data] Downloading package punkt to /home/keshav/nltk_data...\n",
      "[nltk_data]   Package punkt is already up-to-date!\n"
     ]
    },
    {
     "data": {
      "text/plain": [
       "True"
      ]
     },
     "execution_count": 80,
     "metadata": {},
     "output_type": "execute_result"
    }
   ],
   "source": [
    "nltk.download('punkt')"
   ]
  },
  {
   "cell_type": "code",
   "execution_count": 87,
   "id": "sunset-yellow",
   "metadata": {},
   "outputs": [],
   "source": [
    "url = \"https://www.thehindu.com/news/national/vaccination-in-rural-india-trails-urban-areas-even-as-cases-surge/article34589734.ece?homepage=true\""
   ]
  },
  {
   "cell_type": "code",
   "execution_count": 82,
   "id": "better-london",
   "metadata": {},
   "outputs": [],
   "source": [
    "article.download() \n",
    "article.parse() \n",
    "article.nlp() "
   ]
  },
  {
   "cell_type": "code",
   "execution_count": 83,
   "id": "accessible-contract",
   "metadata": {},
   "outputs": [],
   "source": [
    "article = Article(url, language=\"en\")"
   ]
  },
  {
   "cell_type": "code",
   "execution_count": 84,
   "id": "offshore-occasion",
   "metadata": {},
   "outputs": [
    {
     "data": {
      "text/plain": [
       "''"
      ]
     },
     "execution_count": 84,
     "metadata": {},
     "output_type": "execute_result"
    }
   ],
   "source": [
    "article.title"
   ]
  },
  {
   "cell_type": "code",
   "execution_count": 88,
   "id": "veterinary-archive",
   "metadata": {},
   "outputs": [
    {
     "name": "stdout",
     "output_type": "stream",
     "text": [
      "Only about 15% have been immunised outside urban areas, despite reporting over 60% of the cases\n",
      "\n",
      "Even as the second COVID-19 wave has showed signs of easing, the spread of cases into rural areas and the relatively lower vaccination numbers in rural India points to a burgeoning rural crisis. During the first wave (which peaked in September 2020), the COVID-19 cases started piling up in the urban areas initially and spread to rural areas (65% including semi-rural areas by September 2020).\n",
      "\n",
      "The second wave has also followed a similar pattern. The split was 52%- 48% in urban/semi-urban vs rural/semi-rural areas in March 2021 and by mid-May, the estimated case load split is 65% in rural/semi-rural areas vs 35% in urban/semi-urban areas. These percentages are also skewed due to the lack of adequate testing facilities in many parts of rural India.\n",
      "\n",
      "Adding more cause for concern is the fact that the rise in registered cases has not seen a concomitant increase in vaccination in rural areas. While more than 60% of cases were from the rural and semi-rural districts, only an estimated 12-15% of the inhabitants have received at least one dose of the COVID-19 vaccine by May 14.\n",
      "\n",
      "In contrast, an estimated 30% of residents in urban and 19% in semi-urban areas have received at least one shot. In terms of being fully vaccinated (both doses), only an estimated 2.6% of rural residents received them by May 14, even as an estimated 7.7% of urban dwellers had both doses.\n",
      "\n",
      "Also read: Explained | How many vaccine doses will India need to fight COVID-19?\n",
      "\n",
      "Data from some States show that the daily confirmed cases have decreased among the vaccinated higher age groups, while the infections among the non-vaccinated continued to rise during the second wave. Experts have also said that vaccines effectively prevent severe disease even if a vaccinated individual gets infected.\n",
      "\n",
      "The lower vaccination numbers in semi-rural and rural areas suggests that the impact of the pandemic will be more severe there, as is being reported anecdotally from ground reports in several parts of north India in particular.\n",
      "\n",
      "Also read | Global tenders may speed up vaccination drive in Rajasthan\n",
      "\n",
      "Even the reported cases from rural India are an under-estimate because of the lack of adequate testing facilities. The latest available district-wise data from all States reveals a high rural-urban disparity in testing levels. In urban districts of Mumbai, Bengaluru and Chennai, cumulatively, more than 500 tests have been conducted for every 1,000 inhabitants. This is a conservative estimate as the figures are based on the 2011 population. Also, this figure would have increased further in the second wave.\n",
      "\n",
      "Whereas in the rural districts of Gadchiroli (Maharashtra), Tirupathur (Tamil Nadu) and Chamarajanagara (Karnataka), less than 50 tests have been conducted cumulatively for every 1000 inhabitants.\n",
      "\n",
      "Other disparities\n",
      "\n",
      "The rural-urban divide is also stark in health infrastructure and in the availability of health personnel. Even in States which have relatively better infrastructure such as Tamil Nadu, there is a rural-urban divide.\n",
      "\n",
      "A look at the bed availability data in Tamil Nadu — one of the States which updates daily district-wise data — brings out the disparity. As of May 17, the urban districts such as Chennai, Coimbatore and Madurai have more than 70 oxygen-supported beds and above 20 ICU beds for one lakh population. However, the rural districts of Dharmapuri, Ariyalur and Ranipet have less than 40 oxygen-supported beds and fewer than 10 ICU beds for one lakh population.\n",
      "\n",
      "Moreover, in Dharmapuri, Ariyalur and Ranipet, 99-100% of O2 and ICU beds were occupied by May 17, which shows the severity of the disease in rural areas. In the urban districts, the occupancy rate ranges from 90-99%. These are conservative estimates based on the 2011 census population.\n",
      "\n",
      "Going forward, as infections move towards the rural parts, as it already has in many regions, it may result in an acute shortage of beds.\n"
     ]
    }
   ],
   "source": [
    "import newspaper\n",
    "  \n",
    "# Assingn url\n",
    "#url= 'https://timesofindia.indiatimes.com/business/india-business/rbi-reduces-repo-rate-rate-by-75-basis-points-to-4-4-key-points/articleshow/74840356.cms'  \n",
    "# Extract web data\n",
    "url_i = newspaper.Article(url=\"%s\" % (url), language='en')\n",
    "url_i.download()\n",
    "url_i.parse()\n",
    "  \n",
    "# Display scrapped data\n",
    "print(url_i.text)"
   ]
  },
  {
   "cell_type": "code",
   "execution_count": null,
   "id": "contained-kazakhstan",
   "metadata": {},
   "outputs": [],
   "source": []
  },
  {
   "cell_type": "code",
   "execution_count": null,
   "id": "floating-currency",
   "metadata": {},
   "outputs": [],
   "source": []
  }
 ],
 "metadata": {
  "kernelspec": {
   "display_name": "Python 3",
   "language": "python",
   "name": "python3"
  },
  "language_info": {
   "codemirror_mode": {
    "name": "ipython",
    "version": 3
   },
   "file_extension": ".py",
   "mimetype": "text/x-python",
   "name": "python",
   "nbconvert_exporter": "python",
   "pygments_lexer": "ipython3",
   "version": "3.7.3"
  }
 },
 "nbformat": 4,
 "nbformat_minor": 5
}
